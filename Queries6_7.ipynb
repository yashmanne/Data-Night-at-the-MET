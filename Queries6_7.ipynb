{
 "cells": [
  {
   "cell_type": "markdown",
   "metadata": {
    "id": "kPt5q27L5557"
   },
   "source": [
    "# CSE514 - Project\n",
    "## Data Night at the MET\n",
    "\n"
   ]
  },
  {
   "cell_type": "markdown",
   "metadata": {
    "id": "p0-YhEpP_Ds-"
   },
   "source": [
    "### Setup"
   ]
  },
  {
   "cell_type": "code",
   "execution_count": 1,
   "metadata": {
    "colab": {
     "base_uri": "https://localhost:8080/"
    },
    "id": "k-qHai2252mI",
    "outputId": "0aa2a819-1792-4331-af5b-bb1e90ea92ab"
   },
   "outputs": [
    {
     "name": "stdout",
     "output_type": "stream",
     "text": [
      "Looking in indexes: https://pypi.org/simple, https://us-python.pkg.dev/colab-wheels/public/simple/\n",
      "Collecting pyspark\n",
      "  Downloading pyspark-3.4.0.tar.gz (310.8 MB)\n",
      "\u001b[2K     \u001b[90m━━━━━━━━━━━━━━━━━━━━━━━━━━━━━━━━━━━━━━━\u001b[0m \u001b[32m310.8/310.8 MB\u001b[0m \u001b[31m2.1 MB/s\u001b[0m eta \u001b[36m0:00:00\u001b[0m\n",
      "\u001b[?25h  Preparing metadata (setup.py) ... \u001b[?25l\u001b[?25hdone\n",
      "Requirement already satisfied: py4j==0.10.9.7 in /usr/local/lib/python3.10/dist-packages (from pyspark) (0.10.9.7)\n",
      "Building wheels for collected packages: pyspark\n",
      "  Building wheel for pyspark (setup.py) ... \u001b[?25l\u001b[?25hdone\n",
      "  Created wheel for pyspark: filename=pyspark-3.4.0-py2.py3-none-any.whl size=311317130 sha256=e8b9681cbedbc8c1cbd1dde7ad19f29886e3d48630fcab6ed29144b4d61a7f63\n",
      "  Stored in directory: /root/.cache/pip/wheels/7b/1b/4b/3363a1d04368e7ff0d408e57ff57966fcdf00583774e761327\n",
      "Successfully built pyspark\n",
      "Installing collected packages: pyspark\n",
      "Successfully installed pyspark-3.4.0\n",
      "The following additional packages will be installed:\n",
      "  libxtst6 openjdk-8-jre-headless\n",
      "Suggested packages:\n",
      "  openjdk-8-demo openjdk-8-source libnss-mdns fonts-dejavu-extra\n",
      "  fonts-ipafont-gothic fonts-ipafont-mincho fonts-wqy-microhei\n",
      "  fonts-wqy-zenhei fonts-indic\n",
      "The following NEW packages will be installed:\n",
      "  libxtst6 openjdk-8-jdk-headless openjdk-8-jre-headless\n",
      "0 upgraded, 3 newly installed, 0 to remove and 34 not upgraded.\n",
      "Need to get 36.5 MB of archives.\n",
      "After this operation, 144 MB of additional disk space will be used.\n",
      "Selecting previously unselected package libxtst6:amd64.\n",
      "(Reading database ... 122542 files and directories currently installed.)\n",
      "Preparing to unpack .../libxtst6_2%3a1.2.3-1_amd64.deb ...\n",
      "Unpacking libxtst6:amd64 (2:1.2.3-1) ...\n",
      "Selecting previously unselected package openjdk-8-jre-headless:amd64.\n",
      "Preparing to unpack .../openjdk-8-jre-headless_8u372-ga~us1-0ubuntu1~20.04_amd64.deb ...\n",
      "Unpacking openjdk-8-jre-headless:amd64 (8u372-ga~us1-0ubuntu1~20.04) ...\n",
      "Selecting previously unselected package openjdk-8-jdk-headless:amd64.\n",
      "Preparing to unpack .../openjdk-8-jdk-headless_8u372-ga~us1-0ubuntu1~20.04_amd64.deb ...\n",
      "Unpacking openjdk-8-jdk-headless:amd64 (8u372-ga~us1-0ubuntu1~20.04) ...\n",
      "Setting up libxtst6:amd64 (2:1.2.3-1) ...\n",
      "Setting up openjdk-8-jre-headless:amd64 (8u372-ga~us1-0ubuntu1~20.04) ...\n",
      "update-alternatives: using /usr/lib/jvm/java-8-openjdk-amd64/jre/bin/orbd to provide /usr/bin/orbd (orbd) in auto mode\n",
      "update-alternatives: using /usr/lib/jvm/java-8-openjdk-amd64/jre/bin/servertool to provide /usr/bin/servertool (servertool) in auto mode\n",
      "update-alternatives: using /usr/lib/jvm/java-8-openjdk-amd64/jre/bin/tnameserv to provide /usr/bin/tnameserv (tnameserv) in auto mode\n",
      "Setting up openjdk-8-jdk-headless:amd64 (8u372-ga~us1-0ubuntu1~20.04) ...\n",
      "update-alternatives: using /usr/lib/jvm/java-8-openjdk-amd64/bin/idlj to provide /usr/bin/idlj (idlj) in auto mode\n",
      "update-alternatives: using /usr/lib/jvm/java-8-openjdk-amd64/bin/wsimport to provide /usr/bin/wsimport (wsimport) in auto mode\n",
      "update-alternatives: using /usr/lib/jvm/java-8-openjdk-amd64/bin/jsadebugd to provide /usr/bin/jsadebugd (jsadebugd) in auto mode\n",
      "update-alternatives: using /usr/lib/jvm/java-8-openjdk-amd64/bin/native2ascii to provide /usr/bin/native2ascii (native2ascii) in auto mode\n",
      "update-alternatives: using /usr/lib/jvm/java-8-openjdk-amd64/bin/javah to provide /usr/bin/javah (javah) in auto mode\n",
      "update-alternatives: using /usr/lib/jvm/java-8-openjdk-amd64/bin/clhsdb to provide /usr/bin/clhsdb (clhsdb) in auto mode\n",
      "update-alternatives: using /usr/lib/jvm/java-8-openjdk-amd64/bin/jhat to provide /usr/bin/jhat (jhat) in auto mode\n",
      "update-alternatives: using /usr/lib/jvm/java-8-openjdk-amd64/bin/extcheck to provide /usr/bin/extcheck (extcheck) in auto mode\n",
      "update-alternatives: using /usr/lib/jvm/java-8-openjdk-amd64/bin/hsdb to provide /usr/bin/hsdb (hsdb) in auto mode\n",
      "update-alternatives: using /usr/lib/jvm/java-8-openjdk-amd64/bin/schemagen to provide /usr/bin/schemagen (schemagen) in auto mode\n",
      "update-alternatives: using /usr/lib/jvm/java-8-openjdk-amd64/bin/xjc to provide /usr/bin/xjc (xjc) in auto mode\n",
      "update-alternatives: using /usr/lib/jvm/java-8-openjdk-amd64/bin/wsgen to provide /usr/bin/wsgen (wsgen) in auto mode\n",
      "Processing triggers for libc-bin (2.31-0ubuntu9.9) ...\n"
     ]
    }
   ],
   "source": [
    "!pip install pyspark\n",
    "!pip install -U -q PyDrive\n",
    "!apt install openjdk-8-jdk-headless -qq\n",
    "import os\n",
    "os.environ[\"JAVA_HOME\"] = \"/usr/lib/jvm/java-8-openjdk-amd64\""
   ]
  },
  {
   "cell_type": "markdown",
   "metadata": {
    "id": "-CJ71AKe91eh"
   },
   "source": [
    "Now we authenticate a Google Drive client to download the file we will be processing in our Spark job.\n",
    "\n",
    "**Make sure to follow the interactive instructions.**"
   ]
  },
  {
   "cell_type": "code",
   "execution_count": 3,
   "metadata": {
    "colab": {
     "base_uri": "https://localhost:8080/"
    },
    "id": "ttmueooF5fb9",
    "outputId": "6199eaed-322c-46ba-b912-19e96c94ffa2"
   },
   "outputs": [
    {
     "data": {
      "text/plain": [
       "<module 'data_cleaning' from '/content/data_cleaning.py'>"
      ]
     },
     "execution_count": 3,
     "metadata": {},
     "output_type": "execute_result"
    }
   ],
   "source": [
    "import data_cleaning\n",
    "from importlib import reload\n",
    "\n",
    "reload(data_cleaning)"
   ]
  },
  {
   "cell_type": "code",
   "execution_count": 4,
   "metadata": {
    "colab": {
     "base_uri": "https://localhost:8080/",
     "height": 81,
     "referenced_widgets": [
      "8e12fc17c1014125a34ae3b83c618651",
      "5aec1490fb4c41dc8c89fe5d2aad9621",
      "d5c0ebf94f56435a911083d38d467ad4",
      "fedf68f78c6d47fda1e244a3ecc8e654",
      "3a129b5bbc394ad3b5a95343ea9dec2c",
      "16513b8a26974760b05c7e10ec217418",
      "9785ec714c6c4e8a803fa3d25e630586",
      "d39ed11c7b1745e1b104f3853a77ab47",
      "2201c8fc8f73450cbd8858a214b934b5",
      "a26a83c1f2ad4ecdb0f15203ecac7881",
      "7c77361e936140519c8d8bd30101149a",
      "c78af6412e7c4cb2a9d13d291cd41105",
      "b3c28ae84bbf4444a000fa3896b31dca",
      "606f98b8af104091b6aa6aa438c83bce",
      "3f0bc01ac2a145788da8b1f156218e9e",
      "4ed252e8fb8a41afbbc87d9345f90080",
      "26a6b2b2eb1b4859b176e29aa48782eb",
      "1a12efc4a46f4ef0a5a74169a48068db",
      "83f9b2cd436342de935e03fbc7cb9325",
      "0936ab622cd24601b08cb09ac887701a",
      "a2359e021f644aeeae9039c56f18d063",
      "26dd55b5403c4f27992d7d311d21cbb5"
     ]
    },
    "id": "MXmVsoRT5jv2",
    "outputId": "a0f6eec9-691b-4c8c-e48b-3e8c43870e5c"
   },
   "outputs": [
    {
     "data": {
      "application/vnd.jupyter.widget-view+json": {
       "model_id": "8e12fc17c1014125a34ae3b83c618651",
       "version_major": 2,
       "version_minor": 0
      },
      "text/plain": [
       "  0%|          | 0/477804 [00:00<?, ?it/s]"
      ]
     },
     "metadata": {},
     "output_type": "display_data"
    },
    {
     "data": {
      "application/vnd.jupyter.widget-view+json": {
       "model_id": "c78af6412e7c4cb2a9d13d291cd41105",
       "version_major": 2,
       "version_minor": 0
      },
      "text/plain": [
       "  0%|          | 0/477804 [00:00<?, ?it/s]"
      ]
     },
     "metadata": {},
     "output_type": "display_data"
    }
   ],
   "source": [
    "artwork, artist, medium = data_cleaning.load_data()"
   ]
  },
  {
   "cell_type": "code",
   "execution_count": 5,
   "metadata": {
    "id": "Tdtu49AP8G5e"
   },
   "outputs": [],
   "source": [
    "import pandas as pd\n",
    "import numpy as np\n",
    "from pyspark.sql import SparkSession\n",
    "from pyspark.sql.types import StructType, StructField, IntegerType, StringType, BooleanType, ArrayType\n",
    "\n",
    "from pyspark.sql import SparkSession\n",
    "spark = SparkSession.builder \\\n",
    "    .appName(\"Read Online CSV\") \\\n",
    "    .getOrCreate()"
   ]
  },
  {
   "cell_type": "code",
   "execution_count": 6,
   "metadata": {
    "id": "9weP-fry9vW4"
   },
   "outputs": [],
   "source": [
    "artwork_schema = StructType([\n",
    "    StructField(\"Object ID\", IntegerType(), nullable=False),\n",
    "    StructField(\"Object Name\", StringType(), nullable=True),\n",
    "    StructField(\"Is Highlight\", BooleanType(), nullable=True),\n",
    "    StructField(\"Country\", StringType(), nullable=True),\n",
    "    StructField(\"Period\", StringType(), nullable=True),\n",
    "    StructField(\"Culture\", StringType(), nullable=True),\n",
    "    StructField(\"Gallery Number\", IntegerType(), nullable=True),\n",
    "    StructField(\"Department\", StringType(), nullable=True),\n",
    "    StructField(\"Medium IDs\", ArrayType(IntegerType()), nullable=True),\n",
    "    StructField(\"Artist IDs\", ArrayType(IntegerType()), nullable=True)\n",
    "])\n",
    "\n",
    "artist_schema = StructType([\n",
    "    StructField(\"ID\", IntegerType(), nullable=False),\n",
    "    StructField(\"Name\", StringType(), nullable=True),\n",
    "    StructField(\"Gender\", StringType(), nullable=True)\n",
    "])\n",
    "medium_schema = StructType([\n",
    "    StructField(\"ID\", IntegerType(), nullable=False),\n",
    "    StructField(\"Material\", StringType(), nullable=True)\n",
    "])"
   ]
  },
  {
   "cell_type": "code",
   "execution_count": 7,
   "metadata": {
    "id": "XnI_3Hyg-Tpp"
   },
   "outputs": [],
   "source": [
    "artwork = artwork[['Object ID', 'Object Name', 'Is Highlight', 'Country', 'Period', 'Culture', 'Gallery Number', 'Department', 'Medium IDs', 'Artist IDs']]\n",
    "medium = medium[['ID', 'Material']]\n",
    "artist = artist[['ID', 'Name', 'Gender']]\n",
    "\n",
    "# deal with missing values so pyspark can read them\n",
    "n_artwork = artwork.copy()\n",
    "n_artwork['Gallery Number'] = artwork['Gallery Number'].fillna(np.nan).replace([np.nan], [None])\n",
    "n_artwork['Artist IDs'] = artwork['Artist IDs'].fillna(np.nan).replace([np.nan],[None])\n",
    "n_artwork['Medium IDs'] = artwork['Medium IDs'].fillna(np.nan).replace([np.nan],[None])\n"
   ]
  },
  {
   "cell_type": "code",
   "execution_count": 8,
   "metadata": {
    "id": "na8x0szk8ViF"
   },
   "outputs": [],
   "source": [
    "# Create PySpark Tables\n",
    "df_artwork = spark.createDataFrame(data=n_artwork, schema=artwork_schema)\n",
    "df_artist = spark.createDataFrame(data=artist, schema=artist_schema)\n",
    "df_medium = spark.createDataFrame(data=medium, schema=medium_schema)\n",
    "\n",
    "df_artwork.createOrReplaceTempView(\"artwork\")\n",
    "df_medium.createOrReplaceTempView(\"medium\")\n",
    "df_artist.createOrReplaceTempView('artist')"
   ]
  },
  {
   "cell_type": "markdown",
   "metadata": {
    "id": "08c5noGwBN93"
   },
   "source": [
    "# Query 6\n",
    "Of the ten countries from which art is most frequently acquired, which artists are most common?\n"
   ]
  },
  {
   "cell_type": "code",
   "execution_count": null,
   "metadata": {},
   "outputs": [],
   "source": [
    "# Query 6 needs Query 1 to run so putting it here \n",
    "\n",
    "query1 = \"\"\"\n",
    "SELECT Country, COUNT(*) AS ArtworkCount\n",
    "FROM artwork\n",
    "WHERE Country IS NOT NULL\n",
    "GROUP BY Country\n",
    "ORDER BY ArtworkCount DESC\n",
    "\"\"\"\n",
    "\n",
    "result1 = spark.sql(query1)\n",
    "result1.show()"
   ]
  },
  {
   "cell_type": "code",
   "execution_count": 108,
   "metadata": {
    "colab": {
     "base_uri": "https://localhost:8080/"
    },
    "id": "-oRZ_KxHBTge",
    "outputId": "bcc117c3-5b08-4bb2-9ef1-63043a08fd4b"
   },
   "outputs": [
    {
     "name": "stdout",
     "output_type": "stream",
     "text": [
      "+--------------------+------------+\n",
      "|          ArtistName|ArtworkCount|\n",
      "+--------------------+------------+\n",
      "|Louis Comfort Tif...|         621|\n",
      "|     Tiffany Studios|         537|\n",
      "|Tiffany Glass and...|         364|\n",
      "|Tiffany Glass Com...|         199|\n",
      "|Union Porcelain W...|         184|\n",
      "|Abu'l Qasim Firdausi|         162|\n",
      "|Nina de Garis Davies|         155|\n",
      "|Boston & Sandwich...|         147|\n",
      "|      Walter Tyndale|         134|\n",
      "|       Tiffany & Co.|         131|\n",
      "+--------------------+------------+\n",
      "\n"
     ]
    }
   ],
   "source": [
    "from pyspark.sql.functions import explode\n",
    "df_artwork_exploded = df_artwork.withColumn(\"Artist IDs\", explode(df_artwork['Artist IDs']))\n",
    "\n",
    "result1.createOrReplaceTempView(\"result1\")\n",
    "df_artwork_exploded.createOrReplaceTempView(\"artwork_exploded\")\n",
    "\n",
    "query6 = \"\"\"\n",
    "SELECT artist.Name as ArtistName, TopArtists.ArtworkCount FROM \n",
    "(SELECT `Artist IDs` as `Artist ID`, COUNT(*) as ArtworkCount FROM artwork_exploded\n",
    "WHERE Country IN (SELECT Country FROM result1 ORDER BY ArtworkCount DESC LIMIT 5)\n",
    "GROUP BY `Artist IDs`\n",
    "ORDER BY ArtworkCount DESC\n",
    "LIMIT 10) as TopArtists, artist\n",
    "WHERE TopArtists.`Artist ID` = artist.ID\n",
    "ORDER BY TopArtists.ArtworkCount DESC\n",
    "\"\"\"\n",
    "\n",
    "result6 = spark.sql(query6)\n",
    "result6.show()"
   ]
  },
  {
   "cell_type": "markdown",
   "metadata": {
    "id": "9RwH91TwPsDW"
   },
   "source": [
    "# Query 7\n",
    "Are artworks from specific time periods more likely to be highlighted (displayed) than others?"
   ]
  },
  {
   "cell_type": "code",
   "execution_count": 137,
   "metadata": {
    "colab": {
     "base_uri": "https://localhost:8080/"
    },
    "id": "w0fWI7MHCXuZ",
    "outputId": "7abe1a71-0de0-4ce0-9cf9-0157719c3a16"
   },
   "outputs": [
    {
     "name": "stdout",
     "output_type": "stream",
     "text": [
      "+--------------------+------------------+\n",
      "|              Period|PercentHighlighted|\n",
      "+--------------------+------------------+\n",
      "|      Solanki period|             100.0|\n",
      "|Early Tokugawa pe...|             100.0|\n",
      "|      Timurid period|             100.0|\n",
      "|Late Early Cyclad...|             100.0|\n",
      "|  Parthian or Kushan|             100.0|\n",
      "|     Final Neolithic|             100.0|\n",
      "|      Pandyan period|             100.0|\n",
      "|Shang dynasty–Wes...|             100.0|\n",
      "|            Tokugawa|             100.0|\n",
      "|Third Intermediat...|             100.0|\n",
      "|Late Period or Ea...|             100.0|\n",
      "|early Ptolemaic P...|             100.0|\n",
      "|late Anuradhapura...|              50.0|\n",
      "|  Hellenistic period|              50.0|\n",
      "|early Eastern Jav...|              50.0|\n",
      "|  Late Helladic IIIC|              50.0|\n",
      "|        Ming Dynasty|              40.0|\n",
      "|Early Cycladic II...| 33.33333333333333|\n",
      "|             Severan| 28.57142857142857|\n",
      "|            Augustan|              25.0|\n",
      "+--------------------+------------------+\n",
      "only showing top 20 rows\n",
      "\n"
     ]
    }
   ],
   "source": [
    "query7 = \"\"\"\n",
    "SELECT Period, \n",
    "  (SUM(CASE WHEN `Is Highlight` = TRUE THEN 1 ELSE 0 END) / COUNT(*)) * 100  AS PercentHighlighted\n",
    "FROM artwork\n",
    "WHERE Period IS NOT NULL\n",
    "GROUP BY Period\n",
    "ORDER BY PercentHighlighted DESC\n",
    "\"\"\"\n",
    "\n",
    "result7 = spark.sql(query7)\n",
    "result7.show()"
   ]
  },
  {
   "cell_type": "code",
   "execution_count": 152,
   "metadata": {
    "id": "QvI1AtPGYvUg"
   },
   "outputs": [],
   "source": []
  },
  {
   "cell_type": "code",
   "execution_count": null,
   "metadata": {
    "id": "JYy-uKmvY_mu"
   },
   "outputs": [],
   "source": []
  }
 ],
 "metadata": {
  "colab": {
   "provenance": []
  },
  "kernelspec": {
   "display_name": "Python 3 (ipykernel)",
   "language": "python",
   "name": "python3"
  },
  "language_info": {
   "codemirror_mode": {
    "name": "ipython",
    "version": 3
   },
   "file_extension": ".py",
   "mimetype": "text/x-python",
   "name": "python",
   "nbconvert_exporter": "python",
   "pygments_lexer": "ipython3",
   "version": "3.9.7"
  },
  "widgets": {
   "application/vnd.jupyter.widget-state+json": {
    "0936ab622cd24601b08cb09ac887701a": {
     "model_module": "@jupyter-widgets/controls",
     "model_module_version": "1.5.0",
     "model_name": "ProgressStyleModel",
     "state": {
      "_model_module": "@jupyter-widgets/controls",
      "_model_module_version": "1.5.0",
      "_model_name": "ProgressStyleModel",
      "_view_count": null,
      "_view_module": "@jupyter-widgets/base",
      "_view_module_version": "1.2.0",
      "_view_name": "StyleView",
      "bar_color": null,
      "description_width": ""
     }
    },
    "16513b8a26974760b05c7e10ec217418": {
     "model_module": "@jupyter-widgets/base",
     "model_module_version": "1.2.0",
     "model_name": "LayoutModel",
     "state": {
      "_model_module": "@jupyter-widgets/base",
      "_model_module_version": "1.2.0",
      "_model_name": "LayoutModel",
      "_view_count": null,
      "_view_module": "@jupyter-widgets/base",
      "_view_module_version": "1.2.0",
      "_view_name": "LayoutView",
      "align_content": null,
      "align_items": null,
      "align_self": null,
      "border": null,
      "bottom": null,
      "display": null,
      "flex": null,
      "flex_flow": null,
      "grid_area": null,
      "grid_auto_columns": null,
      "grid_auto_flow": null,
      "grid_auto_rows": null,
      "grid_column": null,
      "grid_gap": null,
      "grid_row": null,
      "grid_template_areas": null,
      "grid_template_columns": null,
      "grid_template_rows": null,
      "height": null,
      "justify_content": null,
      "justify_items": null,
      "left": null,
      "margin": null,
      "max_height": null,
      "max_width": null,
      "min_height": null,
      "min_width": null,
      "object_fit": null,
      "object_position": null,
      "order": null,
      "overflow": null,
      "overflow_x": null,
      "overflow_y": null,
      "padding": null,
      "right": null,
      "top": null,
      "visibility": null,
      "width": null
     }
    },
    "1a12efc4a46f4ef0a5a74169a48068db": {
     "model_module": "@jupyter-widgets/controls",
     "model_module_version": "1.5.0",
     "model_name": "DescriptionStyleModel",
     "state": {
      "_model_module": "@jupyter-widgets/controls",
      "_model_module_version": "1.5.0",
      "_model_name": "DescriptionStyleModel",
      "_view_count": null,
      "_view_module": "@jupyter-widgets/base",
      "_view_module_version": "1.2.0",
      "_view_name": "StyleView",
      "description_width": ""
     }
    },
    "2201c8fc8f73450cbd8858a214b934b5": {
     "model_module": "@jupyter-widgets/controls",
     "model_module_version": "1.5.0",
     "model_name": "ProgressStyleModel",
     "state": {
      "_model_module": "@jupyter-widgets/controls",
      "_model_module_version": "1.5.0",
      "_model_name": "ProgressStyleModel",
      "_view_count": null,
      "_view_module": "@jupyter-widgets/base",
      "_view_module_version": "1.2.0",
      "_view_name": "StyleView",
      "bar_color": null,
      "description_width": ""
     }
    },
    "26a6b2b2eb1b4859b176e29aa48782eb": {
     "model_module": "@jupyter-widgets/base",
     "model_module_version": "1.2.0",
     "model_name": "LayoutModel",
     "state": {
      "_model_module": "@jupyter-widgets/base",
      "_model_module_version": "1.2.0",
      "_model_name": "LayoutModel",
      "_view_count": null,
      "_view_module": "@jupyter-widgets/base",
      "_view_module_version": "1.2.0",
      "_view_name": "LayoutView",
      "align_content": null,
      "align_items": null,
      "align_self": null,
      "border": null,
      "bottom": null,
      "display": null,
      "flex": null,
      "flex_flow": null,
      "grid_area": null,
      "grid_auto_columns": null,
      "grid_auto_flow": null,
      "grid_auto_rows": null,
      "grid_column": null,
      "grid_gap": null,
      "grid_row": null,
      "grid_template_areas": null,
      "grid_template_columns": null,
      "grid_template_rows": null,
      "height": null,
      "justify_content": null,
      "justify_items": null,
      "left": null,
      "margin": null,
      "max_height": null,
      "max_width": null,
      "min_height": null,
      "min_width": null,
      "object_fit": null,
      "object_position": null,
      "order": null,
      "overflow": null,
      "overflow_x": null,
      "overflow_y": null,
      "padding": null,
      "right": null,
      "top": null,
      "visibility": null,
      "width": null
     }
    },
    "26dd55b5403c4f27992d7d311d21cbb5": {
     "model_module": "@jupyter-widgets/controls",
     "model_module_version": "1.5.0",
     "model_name": "DescriptionStyleModel",
     "state": {
      "_model_module": "@jupyter-widgets/controls",
      "_model_module_version": "1.5.0",
      "_model_name": "DescriptionStyleModel",
      "_view_count": null,
      "_view_module": "@jupyter-widgets/base",
      "_view_module_version": "1.2.0",
      "_view_name": "StyleView",
      "description_width": ""
     }
    },
    "3a129b5bbc394ad3b5a95343ea9dec2c": {
     "model_module": "@jupyter-widgets/base",
     "model_module_version": "1.2.0",
     "model_name": "LayoutModel",
     "state": {
      "_model_module": "@jupyter-widgets/base",
      "_model_module_version": "1.2.0",
      "_model_name": "LayoutModel",
      "_view_count": null,
      "_view_module": "@jupyter-widgets/base",
      "_view_module_version": "1.2.0",
      "_view_name": "LayoutView",
      "align_content": null,
      "align_items": null,
      "align_self": null,
      "border": null,
      "bottom": null,
      "display": null,
      "flex": null,
      "flex_flow": null,
      "grid_area": null,
      "grid_auto_columns": null,
      "grid_auto_flow": null,
      "grid_auto_rows": null,
      "grid_column": null,
      "grid_gap": null,
      "grid_row": null,
      "grid_template_areas": null,
      "grid_template_columns": null,
      "grid_template_rows": null,
      "height": null,
      "justify_content": null,
      "justify_items": null,
      "left": null,
      "margin": null,
      "max_height": null,
      "max_width": null,
      "min_height": null,
      "min_width": null,
      "object_fit": null,
      "object_position": null,
      "order": null,
      "overflow": null,
      "overflow_x": null,
      "overflow_y": null,
      "padding": null,
      "right": null,
      "top": null,
      "visibility": null,
      "width": null
     }
    },
    "3f0bc01ac2a145788da8b1f156218e9e": {
     "model_module": "@jupyter-widgets/controls",
     "model_module_version": "1.5.0",
     "model_name": "HTMLModel",
     "state": {
      "_dom_classes": [],
      "_model_module": "@jupyter-widgets/controls",
      "_model_module_version": "1.5.0",
      "_model_name": "HTMLModel",
      "_view_count": null,
      "_view_module": "@jupyter-widgets/controls",
      "_view_module_version": "1.5.0",
      "_view_name": "HTMLView",
      "description": "",
      "description_tooltip": null,
      "layout": "IPY_MODEL_a2359e021f644aeeae9039c56f18d063",
      "placeholder": "​",
      "style": "IPY_MODEL_26dd55b5403c4f27992d7d311d21cbb5",
      "value": " 477804/477804 [00:01&lt;00:00, 328427.20it/s]"
     }
    },
    "4ed252e8fb8a41afbbc87d9345f90080": {
     "model_module": "@jupyter-widgets/base",
     "model_module_version": "1.2.0",
     "model_name": "LayoutModel",
     "state": {
      "_model_module": "@jupyter-widgets/base",
      "_model_module_version": "1.2.0",
      "_model_name": "LayoutModel",
      "_view_count": null,
      "_view_module": "@jupyter-widgets/base",
      "_view_module_version": "1.2.0",
      "_view_name": "LayoutView",
      "align_content": null,
      "align_items": null,
      "align_self": null,
      "border": null,
      "bottom": null,
      "display": null,
      "flex": null,
      "flex_flow": null,
      "grid_area": null,
      "grid_auto_columns": null,
      "grid_auto_flow": null,
      "grid_auto_rows": null,
      "grid_column": null,
      "grid_gap": null,
      "grid_row": null,
      "grid_template_areas": null,
      "grid_template_columns": null,
      "grid_template_rows": null,
      "height": null,
      "justify_content": null,
      "justify_items": null,
      "left": null,
      "margin": null,
      "max_height": null,
      "max_width": null,
      "min_height": null,
      "min_width": null,
      "object_fit": null,
      "object_position": null,
      "order": null,
      "overflow": null,
      "overflow_x": null,
      "overflow_y": null,
      "padding": null,
      "right": null,
      "top": null,
      "visibility": null,
      "width": null
     }
    },
    "5aec1490fb4c41dc8c89fe5d2aad9621": {
     "model_module": "@jupyter-widgets/controls",
     "model_module_version": "1.5.0",
     "model_name": "HTMLModel",
     "state": {
      "_dom_classes": [],
      "_model_module": "@jupyter-widgets/controls",
      "_model_module_version": "1.5.0",
      "_model_name": "HTMLModel",
      "_view_count": null,
      "_view_module": "@jupyter-widgets/controls",
      "_view_module_version": "1.5.0",
      "_view_name": "HTMLView",
      "description": "",
      "description_tooltip": null,
      "layout": "IPY_MODEL_16513b8a26974760b05c7e10ec217418",
      "placeholder": "​",
      "style": "IPY_MODEL_9785ec714c6c4e8a803fa3d25e630586",
      "value": "100%"
     }
    },
    "606f98b8af104091b6aa6aa438c83bce": {
     "model_module": "@jupyter-widgets/controls",
     "model_module_version": "1.5.0",
     "model_name": "FloatProgressModel",
     "state": {
      "_dom_classes": [],
      "_model_module": "@jupyter-widgets/controls",
      "_model_module_version": "1.5.0",
      "_model_name": "FloatProgressModel",
      "_view_count": null,
      "_view_module": "@jupyter-widgets/controls",
      "_view_module_version": "1.5.0",
      "_view_name": "ProgressView",
      "bar_style": "success",
      "description": "",
      "description_tooltip": null,
      "layout": "IPY_MODEL_83f9b2cd436342de935e03fbc7cb9325",
      "max": 477804,
      "min": 0,
      "orientation": "horizontal",
      "style": "IPY_MODEL_0936ab622cd24601b08cb09ac887701a",
      "value": 477804
     }
    },
    "7c77361e936140519c8d8bd30101149a": {
     "model_module": "@jupyter-widgets/controls",
     "model_module_version": "1.5.0",
     "model_name": "DescriptionStyleModel",
     "state": {
      "_model_module": "@jupyter-widgets/controls",
      "_model_module_version": "1.5.0",
      "_model_name": "DescriptionStyleModel",
      "_view_count": null,
      "_view_module": "@jupyter-widgets/base",
      "_view_module_version": "1.2.0",
      "_view_name": "StyleView",
      "description_width": ""
     }
    },
    "83f9b2cd436342de935e03fbc7cb9325": {
     "model_module": "@jupyter-widgets/base",
     "model_module_version": "1.2.0",
     "model_name": "LayoutModel",
     "state": {
      "_model_module": "@jupyter-widgets/base",
      "_model_module_version": "1.2.0",
      "_model_name": "LayoutModel",
      "_view_count": null,
      "_view_module": "@jupyter-widgets/base",
      "_view_module_version": "1.2.0",
      "_view_name": "LayoutView",
      "align_content": null,
      "align_items": null,
      "align_self": null,
      "border": null,
      "bottom": null,
      "display": null,
      "flex": null,
      "flex_flow": null,
      "grid_area": null,
      "grid_auto_columns": null,
      "grid_auto_flow": null,
      "grid_auto_rows": null,
      "grid_column": null,
      "grid_gap": null,
      "grid_row": null,
      "grid_template_areas": null,
      "grid_template_columns": null,
      "grid_template_rows": null,
      "height": null,
      "justify_content": null,
      "justify_items": null,
      "left": null,
      "margin": null,
      "max_height": null,
      "max_width": null,
      "min_height": null,
      "min_width": null,
      "object_fit": null,
      "object_position": null,
      "order": null,
      "overflow": null,
      "overflow_x": null,
      "overflow_y": null,
      "padding": null,
      "right": null,
      "top": null,
      "visibility": null,
      "width": null
     }
    },
    "8e12fc17c1014125a34ae3b83c618651": {
     "model_module": "@jupyter-widgets/controls",
     "model_module_version": "1.5.0",
     "model_name": "HBoxModel",
     "state": {
      "_dom_classes": [],
      "_model_module": "@jupyter-widgets/controls",
      "_model_module_version": "1.5.0",
      "_model_name": "HBoxModel",
      "_view_count": null,
      "_view_module": "@jupyter-widgets/controls",
      "_view_module_version": "1.5.0",
      "_view_name": "HBoxView",
      "box_style": "",
      "children": [
       "IPY_MODEL_5aec1490fb4c41dc8c89fe5d2aad9621",
       "IPY_MODEL_d5c0ebf94f56435a911083d38d467ad4",
       "IPY_MODEL_fedf68f78c6d47fda1e244a3ecc8e654"
      ],
      "layout": "IPY_MODEL_3a129b5bbc394ad3b5a95343ea9dec2c"
     }
    },
    "9785ec714c6c4e8a803fa3d25e630586": {
     "model_module": "@jupyter-widgets/controls",
     "model_module_version": "1.5.0",
     "model_name": "DescriptionStyleModel",
     "state": {
      "_model_module": "@jupyter-widgets/controls",
      "_model_module_version": "1.5.0",
      "_model_name": "DescriptionStyleModel",
      "_view_count": null,
      "_view_module": "@jupyter-widgets/base",
      "_view_module_version": "1.2.0",
      "_view_name": "StyleView",
      "description_width": ""
     }
    },
    "a2359e021f644aeeae9039c56f18d063": {
     "model_module": "@jupyter-widgets/base",
     "model_module_version": "1.2.0",
     "model_name": "LayoutModel",
     "state": {
      "_model_module": "@jupyter-widgets/base",
      "_model_module_version": "1.2.0",
      "_model_name": "LayoutModel",
      "_view_count": null,
      "_view_module": "@jupyter-widgets/base",
      "_view_module_version": "1.2.0",
      "_view_name": "LayoutView",
      "align_content": null,
      "align_items": null,
      "align_self": null,
      "border": null,
      "bottom": null,
      "display": null,
      "flex": null,
      "flex_flow": null,
      "grid_area": null,
      "grid_auto_columns": null,
      "grid_auto_flow": null,
      "grid_auto_rows": null,
      "grid_column": null,
      "grid_gap": null,
      "grid_row": null,
      "grid_template_areas": null,
      "grid_template_columns": null,
      "grid_template_rows": null,
      "height": null,
      "justify_content": null,
      "justify_items": null,
      "left": null,
      "margin": null,
      "max_height": null,
      "max_width": null,
      "min_height": null,
      "min_width": null,
      "object_fit": null,
      "object_position": null,
      "order": null,
      "overflow": null,
      "overflow_x": null,
      "overflow_y": null,
      "padding": null,
      "right": null,
      "top": null,
      "visibility": null,
      "width": null
     }
    },
    "a26a83c1f2ad4ecdb0f15203ecac7881": {
     "model_module": "@jupyter-widgets/base",
     "model_module_version": "1.2.0",
     "model_name": "LayoutModel",
     "state": {
      "_model_module": "@jupyter-widgets/base",
      "_model_module_version": "1.2.0",
      "_model_name": "LayoutModel",
      "_view_count": null,
      "_view_module": "@jupyter-widgets/base",
      "_view_module_version": "1.2.0",
      "_view_name": "LayoutView",
      "align_content": null,
      "align_items": null,
      "align_self": null,
      "border": null,
      "bottom": null,
      "display": null,
      "flex": null,
      "flex_flow": null,
      "grid_area": null,
      "grid_auto_columns": null,
      "grid_auto_flow": null,
      "grid_auto_rows": null,
      "grid_column": null,
      "grid_gap": null,
      "grid_row": null,
      "grid_template_areas": null,
      "grid_template_columns": null,
      "grid_template_rows": null,
      "height": null,
      "justify_content": null,
      "justify_items": null,
      "left": null,
      "margin": null,
      "max_height": null,
      "max_width": null,
      "min_height": null,
      "min_width": null,
      "object_fit": null,
      "object_position": null,
      "order": null,
      "overflow": null,
      "overflow_x": null,
      "overflow_y": null,
      "padding": null,
      "right": null,
      "top": null,
      "visibility": null,
      "width": null
     }
    },
    "b3c28ae84bbf4444a000fa3896b31dca": {
     "model_module": "@jupyter-widgets/controls",
     "model_module_version": "1.5.0",
     "model_name": "HTMLModel",
     "state": {
      "_dom_classes": [],
      "_model_module": "@jupyter-widgets/controls",
      "_model_module_version": "1.5.0",
      "_model_name": "HTMLModel",
      "_view_count": null,
      "_view_module": "@jupyter-widgets/controls",
      "_view_module_version": "1.5.0",
      "_view_name": "HTMLView",
      "description": "",
      "description_tooltip": null,
      "layout": "IPY_MODEL_26a6b2b2eb1b4859b176e29aa48782eb",
      "placeholder": "​",
      "style": "IPY_MODEL_1a12efc4a46f4ef0a5a74169a48068db",
      "value": "100%"
     }
    },
    "c78af6412e7c4cb2a9d13d291cd41105": {
     "model_module": "@jupyter-widgets/controls",
     "model_module_version": "1.5.0",
     "model_name": "HBoxModel",
     "state": {
      "_dom_classes": [],
      "_model_module": "@jupyter-widgets/controls",
      "_model_module_version": "1.5.0",
      "_model_name": "HBoxModel",
      "_view_count": null,
      "_view_module": "@jupyter-widgets/controls",
      "_view_module_version": "1.5.0",
      "_view_name": "HBoxView",
      "box_style": "",
      "children": [
       "IPY_MODEL_b3c28ae84bbf4444a000fa3896b31dca",
       "IPY_MODEL_606f98b8af104091b6aa6aa438c83bce",
       "IPY_MODEL_3f0bc01ac2a145788da8b1f156218e9e"
      ],
      "layout": "IPY_MODEL_4ed252e8fb8a41afbbc87d9345f90080"
     }
    },
    "d39ed11c7b1745e1b104f3853a77ab47": {
     "model_module": "@jupyter-widgets/base",
     "model_module_version": "1.2.0",
     "model_name": "LayoutModel",
     "state": {
      "_model_module": "@jupyter-widgets/base",
      "_model_module_version": "1.2.0",
      "_model_name": "LayoutModel",
      "_view_count": null,
      "_view_module": "@jupyter-widgets/base",
      "_view_module_version": "1.2.0",
      "_view_name": "LayoutView",
      "align_content": null,
      "align_items": null,
      "align_self": null,
      "border": null,
      "bottom": null,
      "display": null,
      "flex": null,
      "flex_flow": null,
      "grid_area": null,
      "grid_auto_columns": null,
      "grid_auto_flow": null,
      "grid_auto_rows": null,
      "grid_column": null,
      "grid_gap": null,
      "grid_row": null,
      "grid_template_areas": null,
      "grid_template_columns": null,
      "grid_template_rows": null,
      "height": null,
      "justify_content": null,
      "justify_items": null,
      "left": null,
      "margin": null,
      "max_height": null,
      "max_width": null,
      "min_height": null,
      "min_width": null,
      "object_fit": null,
      "object_position": null,
      "order": null,
      "overflow": null,
      "overflow_x": null,
      "overflow_y": null,
      "padding": null,
      "right": null,
      "top": null,
      "visibility": null,
      "width": null
     }
    },
    "d5c0ebf94f56435a911083d38d467ad4": {
     "model_module": "@jupyter-widgets/controls",
     "model_module_version": "1.5.0",
     "model_name": "FloatProgressModel",
     "state": {
      "_dom_classes": [],
      "_model_module": "@jupyter-widgets/controls",
      "_model_module_version": "1.5.0",
      "_model_name": "FloatProgressModel",
      "_view_count": null,
      "_view_module": "@jupyter-widgets/controls",
      "_view_module_version": "1.5.0",
      "_view_name": "ProgressView",
      "bar_style": "success",
      "description": "",
      "description_tooltip": null,
      "layout": "IPY_MODEL_d39ed11c7b1745e1b104f3853a77ab47",
      "max": 477804,
      "min": 0,
      "orientation": "horizontal",
      "style": "IPY_MODEL_2201c8fc8f73450cbd8858a214b934b5",
      "value": 477804
     }
    },
    "fedf68f78c6d47fda1e244a3ecc8e654": {
     "model_module": "@jupyter-widgets/controls",
     "model_module_version": "1.5.0",
     "model_name": "HTMLModel",
     "state": {
      "_dom_classes": [],
      "_model_module": "@jupyter-widgets/controls",
      "_model_module_version": "1.5.0",
      "_model_name": "HTMLModel",
      "_view_count": null,
      "_view_module": "@jupyter-widgets/controls",
      "_view_module_version": "1.5.0",
      "_view_name": "HTMLView",
      "description": "",
      "description_tooltip": null,
      "layout": "IPY_MODEL_a26a83c1f2ad4ecdb0f15203ecac7881",
      "placeholder": "​",
      "style": "IPY_MODEL_7c77361e936140519c8d8bd30101149a",
      "value": " 477804/477804 [00:00&lt;00:00, 1184101.23it/s]"
     }
    }
   }
  }
 },
 "nbformat": 4,
 "nbformat_minor": 4
}
